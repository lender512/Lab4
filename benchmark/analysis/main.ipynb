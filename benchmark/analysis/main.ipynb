{
 "cells": [
  {
   "cell_type": "code",
   "execution_count": 4,
   "metadata": {
    "collapsed": true,
    "pycharm": {
     "name": "#%%\n"
    }
   },
   "outputs": [],
   "source": [
    "import random\n",
    "import subprocess\n",
    "import os\n",
    "import matplotlib.pyplot as plt\n",
    "import numpy as np"
   ]
  },
  {
   "cell_type": "code",
   "execution_count": 66,
   "outputs": [],
   "source": [
    "# Generate N random numbers without repetition\n",
    "# Use a Linear Congruential Generator\n",
    "\n",
    "def random_range(start, stop=None, step=None):\n",
    "    import random, math\n",
    "    # Set a default values the same way \"range\" does.\n",
    "    if stop is None: start, stop = 0, start\n",
    "    if step is None: step = 1\n",
    "    # Use a mapping to convert a standard range into the desired range.\n",
    "    mapping = lambda i: (i*step) + start\n",
    "    # Compute the number of numbers in this range.\n",
    "    maximum = (stop - start) // step\n",
    "    # Seed range with a random integer.\n",
    "    value = random.randint(0,maximum)\n",
    "    #\n",
    "    # Construct an offset, multiplier, and modulus for a linear\n",
    "    # congruential generator. These generators are cyclic and\n",
    "    # non-repeating when they maintain the properties:\n",
    "    #\n",
    "    #   1) \"modulus\" and \"offset\" are relatively prime.\n",
    "    #   2) [\"multiplier\" - 1] is divisible by all prime factors of \"modulus\".\n",
    "    #   3) [\"multiplier\" - 1] is divisible by 4 if \"modulus\" is divisible by 4.\n",
    "    #\n",
    "    offset = random.randint(0,maximum) * 2 + 1      # Pick a random odd-valued offset.\n",
    "    multiplier = 4*(maximum//4) + 1                 # Pick a multiplier 1 greater than a multiple of 4.\n",
    "    modulus = int(2**math.ceil(math.log2(maximum))) # Pick a modulus just big enough to generate all numbers (power of 2).\n",
    "    # Track how many random numbers have been returned.\n",
    "    found = 0\n",
    "    while found < maximum:\n",
    "        # If this is a valid value, yield it in generator fashion.\n",
    "        if value < maximum:\n",
    "            found += 1\n",
    "            yield mapping(value)\n",
    "        # Calculate the next value in the sequence.\n",
    "        value = (value*multiplier + offset) % modulus\n",
    "\n",
    "def random_range_subset(n, f):\n",
    "    random_list = list(random_range(n * f))\n",
    "    return random.sample(random_list, n)\n"
   ],
   "metadata": {
    "collapsed": false,
    "pycharm": {
     "name": "#%%\n"
    }
   }
  },
  {
   "cell_type": "markdown",
   "source": [
    "# Experiment 1"
   ],
   "metadata": {
    "collapsed": false,
    "pycharm": {
     "name": "#%% md\n"
    }
   }
  },
  {
   "cell_type": "code",
   "execution_count": 56,
   "outputs": [],
   "source": [
    "N = 10000000\n",
    "factor = 10\n",
    "threads = 8\n",
    "degree = 32\n",
    "file = \"output.txt\"\n",
    "ordered = 2 # 0 random 1 ordered 2 ordered reversed"
   ],
   "metadata": {
    "collapsed": false,
    "pycharm": {
     "name": "#%%\n"
    }
   }
  },
  {
   "cell_type": "code",
   "execution_count": 84,
   "outputs": [],
   "source": [
    "# write to output.txt file\n",
    "with open(f'../{file}', 'w') as f:\n",
    "    for i in random_range_subset(N, factor):\n",
    "        f.write(str(i) + '\\n')"
   ],
   "metadata": {
    "collapsed": false,
    "pycharm": {
     "name": "#%%\n"
    }
   }
  },
  {
   "cell_type": "code",
   "execution_count": 57,
   "outputs": [],
   "source": [
    "def run_experiment_1():\n",
    "    # run the program\n",
    "    os.chdir('../')\n",
    "    process = subprocess.run([\"./test.sh\", str(1), file, str(threads), str(degree), str(ordered)], capture_output=True)\n",
    "    os.chdir('./analysis')\n",
    "    # capture the output\n",
    "    output = process.stdout.decode('utf-8')\n",
    "    # save each line to a list and convert to int\n",
    "    result = [int(line) for line in output.splitlines()]\n",
    "    return result\n"
   ],
   "metadata": {
    "collapsed": false,
    "pycharm": {
     "name": "#%%\n"
    }
   }
  },
  {
   "cell_type": "code",
   "execution_count": 58,
   "outputs": [],
   "source": [
    "# for each output_list get the mean of each index and append to a list\n",
    "total_output = []\n",
    "for _ in range(10):\n",
    "    output_list = run_experiment_1()\n",
    "    total_output.append(output_list)"
   ],
   "metadata": {
    "collapsed": false,
    "pycharm": {
     "name": "#%%\n"
    }
   }
  },
  {
   "cell_type": "markdown",
   "source": [],
   "metadata": {
    "collapsed": false,
    "pycharm": {
     "name": "#%% md\n"
    }
   }
  },
  {
   "cell_type": "code",
   "execution_count": 59,
   "outputs": [],
   "source": [
    "total_output_mean = []\n",
    "for i in range(len(total_output[0])):\n",
    "    total_output_mean.append(np.median([output_list[i] for output_list in total_output]))"
   ],
   "metadata": {
    "collapsed": false,
    "pycharm": {
     "name": "#%%\n"
    }
   }
  },
  {
   "cell_type": "code",
   "execution_count": 60,
   "outputs": [],
   "source": [
    "output_value_list = [i for i in range(1000, N + 1000, 1000)]"
   ],
   "metadata": {
    "collapsed": false,
    "pycharm": {
     "name": "#%%\n"
    }
   }
  },
  {
   "cell_type": "code",
   "execution_count": 61,
   "outputs": [
    {
     "data": {
      "text/plain": "Text(0.5, 1.0, 'Time vs Index inserted (reversed)')"
     },
     "execution_count": 61,
     "metadata": {},
     "output_type": "execute_result"
    },
    {
     "data": {
      "text/plain": "<Figure size 432x288 with 1 Axes>",
      "image/png": "[encoded data removed]"
     },
     "metadata": {
      "needs_background": "light"
     },
     "output_type": "display_data"
    }
   ],
   "source": [
    "plt.plot(output_value_list, total_output_mean)\n",
    "plt.xlabel('Index inserted')\n",
    "plt.ylabel('Time (μs)')\n",
    "plt.title('Time vs Index inserted (reversed)')\n"
   ],
   "metadata": {
    "collapsed": false,
    "pycharm": {
     "name": "#%%\n"
    }
   }
  },
  {
   "cell_type": "code",
   "execution_count": 62,
   "outputs": [
    {
     "data": {
      "text/plain": "Text(0.5, 1.0, 'Time vs Index inserted (reversed)')"
     },
     "execution_count": 62,
     "metadata": {},
     "output_type": "execute_result"
    },
    {
     "data": {
      "text/plain": "<Figure size 432x288 with 1 Axes>",
      "image/png": "[encoded data removed]"
     },
     "metadata": {
      "needs_background": "light"
     },
     "output_type": "display_data"
    }
   ],
   "source": [
    "plt.ylim(top=10000)\n",
    "plt.plot(output_value_list, total_output_mean)\n",
    "plt.xlabel('Index inserted')\n",
    "plt.ylabel('Time (μs)')\n",
    "plt.title('Time vs Index inserted (reversed)')\n"
   ],
   "metadata": {
    "collapsed": false,
    "pycharm": {
     "name": "#%%\n"
    }
   }
  },
  {
   "cell_type": "code",
   "execution_count": 63,
   "outputs": [
    {
     "data": {
      "text/plain": "Text(0.5, 1.0, 'Time vs Index inserted (reversed)')"
     },
     "execution_count": 63,
     "metadata": {},
     "output_type": "execute_result"
    },
    {
     "data": {
      "text/plain": "<Figure size 432x288 with 1 Axes>",
      "image/png": "[encoded data removed]"
     },
     "metadata": {
      "needs_background": "light"
     },
     "output_type": "display_data"
    }
   ],
   "source": [
    "plt.ylim(top=1000)\n",
    "plt.plot(output_value_list, total_output_mean)\n",
    "plt.xlabel('Index inserted')\n",
    "plt.ylabel('Time (μs)')\n",
    "plt.title('Time vs Index inserted (reversed)')\n"
   ],
   "metadata": {
    "collapsed": false,
    "pycharm": {
     "name": "#%%\n"
    }
   }
  },
  {
   "cell_type": "markdown",
   "source": [
    "# Experiment 2"
   ],
   "metadata": {
    "collapsed": false,
    "pycharm": {
     "name": "#%% md\n"
    }
   }
  },
  {
   "cell_type": "code",
   "execution_count": 209,
   "outputs": [],
   "source": [
    "# Experiment 2\n",
    "N = 10000000\n",
    "factor = 10\n",
    "threads = 8\n",
    "degree = 32\n",
    "file = \"output.txt\"\n",
    "ordered = 0  # does not matter"
   ],
   "metadata": {
    "collapsed": false,
    "pycharm": {
     "name": "#%%\n"
    }
   }
  },
  {
   "cell_type": "code",
   "execution_count": null,
   "outputs": [],
   "source": [
    "# write to output.txt file\n",
    "with open(f'../{file}', 'w') as f:\n",
    "    for i in random_range_subset(N, factor):\n",
    "        f.write(str(i) + '\\n')"
   ],
   "metadata": {
    "collapsed": false,
    "pycharm": {
     "name": "#%%\n"
    }
   }
  },
  {
   "cell_type": "code",
   "execution_count": 222,
   "outputs": [],
   "source": [
    "def run_experiment_2():\n",
    "    # run the program\n",
    "    os.chdir('../')\n",
    "    process = subprocess.run([\"./test.sh\", str(2), file, str(threads), str(degree), str(ordered)], capture_output=True)\n",
    "    os.chdir('./analysis')\n",
    "    # capture the output\n",
    "    output = process.stdout.decode('utf-8')\n",
    "    # save each line to a list and convert to int\n",
    "    result = [int(line) for line in output.splitlines()]\n",
    "    return result\n"
   ],
   "metadata": {
    "collapsed": false,
    "pycharm": {
     "name": "#%%\n"
    }
   }
  },
  {
   "cell_type": "code",
   "execution_count": 223,
   "outputs": [],
   "source": [
    "# for each output_list get the mean of each index and append to a list\n",
    "total_output = []\n",
    "for _ in range(10):\n",
    "    output_list = run_experiment_2()\n",
    "    total_output.append(output_list)"
   ],
   "metadata": {
    "collapsed": false,
    "pycharm": {
     "name": "#%%\n"
    }
   }
  },
  {
   "cell_type": "code",
   "execution_count": 224,
   "outputs": [],
   "source": [
    "total_output_proc = []\n",
    "for i in range(len(total_output[0])):\n",
    "    temp = []\n",
    "    for output_list in total_output:\n",
    "        temp.append(output_list[i])\n",
    "    total_output_proc.append(temp)"
   ],
   "metadata": {
    "collapsed": false,
    "pycharm": {
     "name": "#%%\n"
    }
   }
  },
  {
   "cell_type": "code",
   "execution_count": 226,
   "outputs": [
    {
     "data": {
      "text/plain": "Text(0.5, 1.0, 'Time vs Index searches (random)')"
     },
     "execution_count": 226,
     "metadata": {},
     "output_type": "execute_result"
    },
    {
     "data": {
      "text/plain": "<Figure size 432x288 with 1 Axes>",
      "image/png": "[encoded data removed]"
     },
     "metadata": {
      "needs_background": "light"
     },
     "output_type": "display_data"
    }
   ],
   "source": [
    "# Boxplots containing all the outputs with x axis of output_value_list with scientific notation\n",
    "plt.boxplot(total_output_proc)\n",
    "plt.xlabel('Index searches (million)')\n",
    "plt.ylabel('Time (μs)')\n",
    "plt.title('Time vs Index searches (random)')\n"
   ],
   "metadata": {
    "collapsed": false,
    "pycharm": {
     "name": "#%%\n"
    }
   }
  },
  {
   "cell_type": "markdown",
   "source": [
    "# Experiment 3"
   ],
   "metadata": {
    "collapsed": false,
    "pycharm": {
     "name": "#%% md\n"
    }
   }
  },
  {
   "cell_type": "code",
   "execution_count": 134,
   "outputs": [],
   "source": [
    "# Experiment 2\n",
    "N = 10000000\n",
    "factor = 10\n",
    "threads = 8\n",
    "degree = 32\n",
    "file = \"output.txt\"\n",
    "ordered = 0 # does not matter\n"
   ],
   "metadata": {
    "collapsed": false,
    "pycharm": {
     "name": "#%%\n"
    }
   }
  },
  {
   "cell_type": "code",
   "execution_count": null,
   "outputs": [],
   "source": [
    "# write to output.txt file\n",
    "with open(f'../{file}', 'w') as f:\n",
    "    for i in random_range_subset(N, factor):\n",
    "        f.write(str(i) + '\\n')\n"
   ],
   "metadata": {
    "collapsed": false,
    "pycharm": {
     "name": "#%%\n"
    }
   }
  },
  {
   "cell_type": "code",
   "execution_count": 135,
   "outputs": [],
   "source": [
    "def run_experiment_3():\n",
    "    # run the program\n",
    "    os.chdir('../')\n",
    "    process = subprocess.run([\"./test.sh\", str(3), file, str(threads), str(degree), str(ordered)], capture_output=True)\n",
    "    os.chdir('./analysis')\n",
    "    # capture the output\n",
    "    output = process.stdout.decode('utf-8')\n",
    "    # save each line to a list and convert to int\n",
    "    result = [int(line) for line in output.splitlines()]\n",
    "    return result\n"
   ],
   "metadata": {
    "collapsed": false,
    "pycharm": {
     "name": "#%%\n"
    }
   }
  },
  {
   "cell_type": "code",
   "execution_count": 136,
   "outputs": [],
   "source": [
    "# for each output_list get the mean of each index and append to a list\n",
    "total_output = []\n",
    "for _ in range(10):\n",
    "    output_list = run_experiment_3()\n",
    "    total_output.append(output_list)\n"
   ],
   "metadata": {
    "collapsed": false,
    "pycharm": {
     "name": "#%%\n"
    }
   }
  },
  {
   "cell_type": "code",
   "execution_count": 139,
   "outputs": [],
   "source": [
    "total_output_proc = []\n",
    "for i in range(len(total_output[0])):\n",
    "    temp = []\n",
    "    for output_list in total_output:\n",
    "        temp.append(output_list[i])\n",
    "    total_output_proc.append(temp)\n"
   ],
   "metadata": {
    "collapsed": false,
    "pycharm": {
     "name": "#%%\n"
    }
   }
  },
  {
   "cell_type": "code",
   "execution_count": 140,
   "outputs": [
    {
     "data": {
      "text/plain": "Text(0.5, 1.0, 'Time vs Index deletes (random)')"
     },
     "execution_count": 140,
     "metadata": {},
     "output_type": "execute_result"
    },
    {
     "data": {
      "text/plain": "<Figure size 432x288 with 1 Axes>",
      "image/png": "[encoded data removed]"
     },
     "metadata": {
      "needs_background": "light"
     },
     "output_type": "display_data"
    }
   ],
   "source": [
    "# Boxplots containing all the outputs with x axis of output_value_list with scientific notation\n",
    "plt.boxplot(total_output_proc)\n",
    "plt.xlabel('Index deletes (million)')\n",
    "plt.ylabel('Time (μs)')\n",
    "plt.title('Time vs Index deletes (random)')\n"
   ],
   "metadata": {
    "collapsed": false,
    "pycharm": {
     "name": "#%%\n"
    }
   }
  },
  {
   "cell_type": "markdown",
   "source": [
    "# Experiment 4"
   ],
   "metadata": {
    "collapsed": false,
    "pycharm": {
     "name": "#%% md\n"
    }
   }
  },
  {
   "cell_type": "code",
   "execution_count": null,
   "outputs": [],
   "source": [
    "# Experiment 2\n",
    "N = 10000000\n",
    "factor = 10\n",
    "threads = 8\n",
    "degree = 32\n",
    "file = \"output.txt\"\n",
    "operation = 2  # 0 - search | 1 - insert | 2 - delete\n"
   ],
   "metadata": {
    "collapsed": false,
    "pycharm": {
     "name": "#%%\n"
    }
   }
  },
  {
   "cell_type": "code",
   "execution_count": null,
   "outputs": [],
   "source": [
    "# write to output.txt file\n",
    "with open(f'../{file}', 'w') as f:\n",
    "    for i in random_range_subset(N, factor):\n",
    "        f.write(str(i) + '\\n')\n"
   ],
   "metadata": {
    "collapsed": false,
    "pycharm": {
     "name": "#%%\n"
    }
   }
  },
  {
   "cell_type": "code",
   "execution_count": null,
   "outputs": [],
   "source": [
    "\n",
    "def run_experiment_4(th):\n",
    "    # run the program\n",
    "    os.chdir('../')\n",
    "    process = subprocess.run([\"./test.sh\", str(4), file, str(th), str(degree), str(operation)], capture_output=True)\n",
    "    print(process)\n",
    "    os.chdir('./analysis')\n",
    "    # capture the output\n",
    "    output = process.stdout.decode('utf-8')\n",
    "    # save each line to a list and convert to int\n",
    "    result = [int(line) for line in output.splitlines()]\n",
    "    return result[0]\n"
   ],
   "metadata": {
    "collapsed": false,
    "pycharm": {
     "name": "#%%\n"
    }
   }
  },
  {
   "cell_type": "code",
   "execution_count": null,
   "outputs": [],
   "source": [
    "# for each output_list get the mean of each index and append to a list\n",
    "total_output = []\n",
    "for i in range(threads * 2):\n",
    "    total_output.append(run_experiment_4(i + 1))\n"
   ],
   "metadata": {
    "collapsed": false,
    "pycharm": {
     "name": "#%%\n"
    }
   }
  },
  {
   "cell_type": "code",
   "execution_count": null,
   "outputs": [],
   "source": [
    "plt.plot([i + 1 for i in range(threads * 2)], total_output)\n",
    "plt.xlabel('Threads')\n",
    "plt.ylabel('Time (ms)')\n",
    "plt.title('Time vs Threads used in delete (random)')\n"
   ],
   "metadata": {
    "collapsed": false,
    "pycharm": {
     "name": "#%%\n"
    }
   }
  }
 ],
 "metadata": {
  "kernelspec": {
   "display_name": "Python 3",
   "language": "python",
   "name": "python3"
  },
  "language_info": {
   "codemirror_mode": {
    "name": "ipython",
    "version": 2
   },
   "file_extension": ".py",
   "mimetype": "text/x-python",
   "name": "python",
   "nbconvert_exporter": "python",
   "pygments_lexer": "ipython2",
   "version": "2.7.6"
  }
 },
 "nbformat": 4,
 "nbformat_minor": 0
}